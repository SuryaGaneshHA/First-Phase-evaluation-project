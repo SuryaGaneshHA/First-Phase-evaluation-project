{
 "cells": [
  {
   "cell_type": "code",
   "execution_count": 1,
   "id": "0e877658-50d9-4680-abdf-099b3bbd4516",
   "metadata": {},
   "outputs": [],
   "source": [
    "#Baseball Case Study"
   ]
  },
  {
   "cell_type": "code",
   "execution_count": 2,
   "id": "aa386e02-995b-43cd-b2f6-05d9e966948f",
   "metadata": {},
   "outputs": [
    {
     "name": "stdout",
     "output_type": "stream",
     "text": [
      "    W    R    AB     H   2B  3B   HR   BB    SO   SB   RA   ER   ERA  CG  SHO  \\\n",
      "0  95  724  5575  1497  300  42  139  383   973  104  641  601  3.73   2    8   \n",
      "1  83  696  5467  1349  277  44  156  439  1264   70  700  653  4.07   2   12   \n",
      "2  81  669  5439  1395  303  29  141  533  1157   86  640  584  3.67  11   10   \n",
      "3  76  622  5533  1381  260  27  136  404  1231   68  701  643  3.98   7    9   \n",
      "4  74  689  5605  1515  289  49  151  455  1259   83  803  746  4.64   7   12   \n",
      "\n",
      "   SV    E  \n",
      "0  56   88  \n",
      "1  45   86  \n",
      "2  38   79  \n",
      "3  37  101  \n",
      "4  35   86  \n",
      "Mean Squared Error: 27.94303250666688\n",
      "Coefficients: [ 1.02549238e-01 -3.35827543e-02  2.01686535e-02 -6.00243719e-02\n",
      "  1.60076245e-02 -2.77125187e-02 -2.17984971e-02 -1.34863493e-03\n",
      " -3.72563353e-03  6.65875468e-02  2.11546066e-01 -5.26256000e+01\n",
      "  5.69017945e-01  3.04847981e-01  7.79908630e-01 -9.52477269e-03]\n",
      "Intercept: 190.3985773774897\n"
     ]
    }
   ],
   "source": [
    "# Importing necessary libraries\n",
    "import pandas as pd\n",
    "from sklearn.model_selection import train_test_split\n",
    "from sklearn.linear_model import LinearRegression\n",
    "from sklearn.metrics import mean_squared_error\n",
    "\n",
    "# Load the dataset\n",
    "url = \"https://github.com/FlipRoboTechnologies/ML_-Datasets/raw/main/Baseball/baseball.csv\"\n",
    "baseball_data = pd.read_csv(url)\n",
    "\n",
    "# Display the first few rows of the dataset\n",
    "print(baseball_data.head())\n",
    "\n",
    "# Split the data into features (X) and target variable (y)\n",
    "X = baseball_data.drop('W', axis=1)  # Features\n",
    "y = baseball_data['W']  # Target variable\n",
    "\n",
    "# Split the data into training and testing sets (80% train, 20% test)\n",
    "X_train, X_test, y_train, y_test = train_test_split(X, y, test_size=0.2, random_state=42)\n",
    "\n",
    "# Initialize the Linear Regression model\n",
    "model = LinearRegression()\n",
    "\n",
    "# Fit the model on the training data\n",
    "model.fit(X_train, y_train)\n",
    "\n",
    "# Make predictions on the testing data\n",
    "y_pred = model.predict(X_test)\n",
    "\n",
    "# Calculate the Mean Squared Error (MSE) to evaluate the model performance\n",
    "mse = mean_squared_error(y_test, y_pred)\n",
    "print(f\"Mean Squared Error: {mse}\")\n",
    "\n",
    "# Optionally, you can print the coefficients of the model\n",
    "print(\"Coefficients:\", model.coef_)\n",
    "\n",
    "# Optionally, you can print the intercept of the model\n",
    "print(\"Intercept:\", model.intercept_)\n"
   ]
  },
  {
   "cell_type": "code",
   "execution_count": null,
   "id": "b8169474-8f6c-44a7-9b34-e6b7a7c2671c",
   "metadata": {},
   "outputs": [],
   "source": []
  }
 ],
 "metadata": {
  "kernelspec": {
   "display_name": "Python 3 (ipykernel)",
   "language": "python",
   "name": "python3"
  },
  "language_info": {
   "codemirror_mode": {
    "name": "ipython",
    "version": 3
   },
   "file_extension": ".py",
   "mimetype": "text/x-python",
   "name": "python",
   "nbconvert_exporter": "python",
   "pygments_lexer": "ipython3",
   "version": "3.11.7"
  }
 },
 "nbformat": 4,
 "nbformat_minor": 5
}
